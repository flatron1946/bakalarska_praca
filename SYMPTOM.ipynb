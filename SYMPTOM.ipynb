{
 "cells": [
  {
   "cell_type": "code",
   "execution_count": 1,
   "id": "23def497",
   "metadata": {},
   "outputs": [
    {
     "data": {
      "text/plain": [
       "<Graph identifier=Nb6e07350db0a4db88dd52af5a3745bd8 (<class 'rdflib.graph.Dataset'>)>"
      ]
     },
     "execution_count": 1,
     "metadata": {},
     "output_type": "execute_result"
    }
   ],
   "source": [
    "import json\n",
    "from rdflib import Namespace, URIRef, Literal, Dataset\n",
    "\n",
    "SKOS = Namespace(\"http://www.w3.org/2004/02/skos/core#\")\n",
    "BIOR = Namespace(\"https://bioregistry.io/\")\n",
    "RDF = Namespace(\"http://www.w3.org/1999/02/22-rdf-syntax-ns#\")\n",
    "\n",
    "with open('/Users/simonsnopko/Desktop/Škola/bakalarska praca/hetionet-v1.0.json') as f:\n",
    "    data = json.load(f)\n",
    "\n",
    "ds = Dataset()\n",
    "\n",
    "graph_name = URIRef(\"http://symptom_ontology.org\")\n",
    "graph = ds.graph(graph_name)\n",
    "\n",
    "for item in data['nodes']:\n",
    "    if item['kind'] == 'Symptom':\n",
    "        bior_xref = URIRef(f\"{BIOR}mesh:{item['identifier']}\")\n",
    "        graph.add((bior_xref, SKOS.prefLabel, Literal(item['name'])))\n",
    "        graph.add((bior_xref, SKOS.notation,  Literal(\"mesh:\" + item['identifier'])))\n",
    "        #graph.add((bior_xref, RDF.type, Literal(\"symptom\")))\n",
    "\n",
    "ds.serialize(destination='symptom created ontology.nq', format='nquads')"
   ]
  }
 ],
 "metadata": {
  "kernelspec": {
   "display_name": "Python 3 (ipykernel)",
   "language": "python",
   "name": "python3"
  },
  "language_info": {
   "codemirror_mode": {
    "name": "ipython",
    "version": 3
   },
   "file_extension": ".py",
   "mimetype": "text/x-python",
   "name": "python",
   "nbconvert_exporter": "python",
   "pygments_lexer": "ipython3",
   "version": "3.9.7"
  }
 },
 "nbformat": 4,
 "nbformat_minor": 5
}
