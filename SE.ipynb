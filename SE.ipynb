{
 "cells": [
  {
   "cell_type": "code",
   "execution_count": 1,
   "id": "0ddcefda",
   "metadata": {},
   "outputs": [
    {
     "data": {
      "text/plain": [
       "<Graph identifier=N62e30f43cfa248158faab0c215504dbb (<class 'rdflib.graph.Dataset'>)>"
      ]
     },
     "execution_count": 1,
     "metadata": {},
     "output_type": "execute_result"
    }
   ],
   "source": [
    "# v tomto kode nacitame udaje o Side Effect z Hetionetu a konvertujeme ich \n",
    "# do RDF grafu \"https://side_effect_ontology.org\"\n",
    "\n",
    "# importujeme potrebne kniznice\n",
    "import json\n",
    "from rdflib import Namespace, URIRef, Literal, Dataset\n",
    "from rdflib.namespace import RDF, SKOS\n",
    "\n",
    "# definujeme namespace pre bioregistry \n",
    "BIOR = Namespace(\"https://bioregistry.io/\")\n",
    "\n",
    "# nacitame JSON subor\n",
    "with open('/Users/simonsnopko/Desktop/Škola/bakalarska praca/hetionet-v1.0.json') as f:\n",
    "    data = json.load(f)\n",
    "\n",
    "# vytvorime RDF dataset a priradime mu meno\n",
    "ds = Dataset()\n",
    "graph_name = URIRef(\"http://side_effect_ontology.org\")\n",
    "graph = ds.graph(graph_name)\n",
    "\n",
    "# prechadzame cez vsetky uzly v JSON datach\n",
    "for item in data['nodes']:\n",
    "    # kontrolujeme ci je typ uzla \"Side Effect\"\n",
    "    if item['kind'] == 'Side Effect':\n",
    "        # vytvorime URI pre dany uzol v bioregistry\n",
    "        bior_xref = URIRef(f\"{BIOR}sider.effect:{item['identifier']}\")\n",
    "        # priradime tripletu s nazvom (prefLabel) a CURIE (notation) do grafu\n",
    "        graph.add((bior_xref, SKOS.prefLabel, Literal(item['name'])))\n",
    "        graph.add((bior_xref, SKOS.notation, Literal(\"sider.effect:\" + item['identifier'])))\n",
    "\n",
    "# serializujeme vytvoreny RDF dataset do suboru vo formate nquads\n",
    "ds.serialize(destination='side_effect created ontology.nq', format='nquads')"
   ]
  }
 ],
 "metadata": {
  "kernelspec": {
   "display_name": "Python 3 (ipykernel)",
   "language": "python",
   "name": "python3"
  },
  "language_info": {
   "codemirror_mode": {
    "name": "ipython",
    "version": 3
   },
   "file_extension": ".py",
   "mimetype": "text/x-python",
   "name": "python",
   "nbconvert_exporter": "python",
   "pygments_lexer": "ipython3",
   "version": "3.9.7"
  }
 },
 "nbformat": 4,
 "nbformat_minor": 5
}
