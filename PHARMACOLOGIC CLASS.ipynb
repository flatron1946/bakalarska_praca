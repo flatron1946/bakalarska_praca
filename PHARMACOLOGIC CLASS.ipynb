{
 "cells": [
  {
   "cell_type": "code",
   "execution_count": 1,
   "id": "e17d37e9",
   "metadata": {},
   "outputs": [
    {
     "data": {
      "text/plain": [
       "<Graph identifier=N6add5126458a4b5a9bf3bcb729eb41dd (<class 'rdflib.graph.Dataset'>)>"
      ]
     },
     "execution_count": 1,
     "metadata": {},
     "output_type": "execute_result"
    }
   ],
   "source": [
    "# toto pouzivam\n",
    "\n",
    "import json\n",
    "from rdflib import Namespace, URIRef, Literal, Dataset\n",
    "\n",
    "SKOS = Namespace(\"http://www.w3.org/2004/02/skos/core#\")\n",
    "BIOR = Namespace(\"https://bioregistry.io/\")\n",
    "RDF = Namespace(\"http://www.w3.org/1999/02/22-rdf-syntax-ns#\")\n",
    "\n",
    "\n",
    "with open('/Users/simonsnopko/Desktop/Škola/bakalarska praca/hetionet-v1.0.json') as f:\n",
    "    data = json.load(f)\n",
    "\n",
    "ds = Dataset()\n",
    "\n",
    "graph_name = URIRef(\"http://pharm_class_ontology.org\")\n",
    "graph = ds.graph(graph_name)\n",
    "\n",
    "for item in data['nodes']:\n",
    "    if item['kind'] == 'Pharmacologic Class':\n",
    "        ph_class_id = URIRef(f\"http://purl.bioontology.org/ontology/NDFRT/{item['identifier']}\")\n",
    "        graph.add((ph_class_id, SKOS.prefLabel, Literal(item['name'])))\n",
    "        graph.add((ph_class_id, SKOS.notation, Literal(\"ndfrt:\" + item['identifier'])))\n",
    "        #graph.add((ph_class_id, RDF.type, Literal(\"pharmalogical class\")))\n",
    "\n",
    "\n",
    "ds.serialize(destination='ph_class created ontology.nq', format='nquads')\n"
   ]
  },
  {
   "cell_type": "code",
   "execution_count": null,
   "id": "8876f987",
   "metadata": {},
   "outputs": [],
   "source": [
    "# pre bioregistry nefunguje url\n",
    "\n",
    "import json\n",
    "from rdflib import Namespace, URIRef, Literal, Dataset\n",
    "\n",
    "SKOS = Namespace(\"http://www.w3.org/2004/02/skos/core#\")\n",
    "BIOR = Namespace(\"https://bioregistry.io/\")\n",
    "\n",
    "with open('/Users/simonsnopko/Desktop/Škola/bakalarska praca/hetionet-v1.0.json') as f:\n",
    "    data = json.load(f)\n",
    "\n",
    "ds = Dataset()\n",
    "\n",
    "graph_name = URIRef(\"http://pharm_class_ontology.org\")\n",
    "graph = ds.graph(graph_name)\n",
    "\n",
    "for item in data['nodes']:\n",
    "    if item['kind'] == 'Pharmacologic Class':\n",
    "        bior_xref = URIRef(f\"{BIOR}ndfrt:{item['identifier']}\")\n",
    "        graph.add((bior_xref, SKOS.prefLabel, Literal(item['name'])))\n",
    "        graph.add((bior_xref, SKOS.notation, Literal(\"ndfrt:\" + item['identifier'])))\n",
    "\n",
    "ds.serialize(destination='ph_class created ontology.nq', format='nquads')\n"
   ]
  }
 ],
 "metadata": {
  "kernelspec": {
   "display_name": "Python 3 (ipykernel)",
   "language": "python",
   "name": "python3"
  },
  "language_info": {
   "codemirror_mode": {
    "name": "ipython",
    "version": 3
   },
   "file_extension": ".py",
   "mimetype": "text/x-python",
   "name": "python",
   "nbconvert_exporter": "python",
   "pygments_lexer": "ipython3",
   "version": "3.9.7"
  }
 },
 "nbformat": 4,
 "nbformat_minor": 5
}
