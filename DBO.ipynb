{
 "cells": [
  {
   "cell_type": "code",
   "execution_count": 4,
   "id": "e30fd28c",
   "metadata": {},
   "outputs": [
    {
     "data": {
      "text/plain": [
       "<Graph identifier=N3e5722eb1aeb467795887ed982c5189e (<class 'rdflib.graph.Dataset'>)>"
      ]
     },
     "execution_count": 4,
     "metadata": {},
     "output_type": "execute_result"
    }
   ],
   "source": [
    "# v tomto kode nacitame udaje o zluceninach Hetionetu a konvertujeme ich \n",
    "# do RDF grafu \"https://drugbank_ontology.org\"\n",
    "\n",
    "# importujeme potrebne kniznice\n",
    "import os\n",
    "import json\n",
    "from rdflib import Literal, URIRef, Dataset\n",
    "from rdflib.namespace import RDF, FOAF, RDFS, SKOS, Namespace\n",
    "\n",
    "# cesta k drugbank adresaru kde JSON subory \n",
    "folder_path = \"/Users/simonsnopko/Desktop/Škola/bakalarska praca/DrugBank\"\n",
    "\n",
    "# definujeme namespaces pre drugbank a bioregistry\n",
    "DRUGBANK = Namespace(\"http://go.drugbank.com/drugs/\")\n",
    "BIOREGISTRY = Namespace(\"https://bioregistry.io/drugbank:\")\n",
    "\n",
    "# do zoznamu nacitame vsetky JSON subory v danom adresari\n",
    "json_files = [f for f in os.listdir(folder_path) if f.endswith('.json')]\n",
    "\n",
    "# vytvorenie zoznamu klucov, ktore nas zaujimaju v JSON suboroch\n",
    "specific_keys = [\"drugbank_id\", \"name\", \"description\", \"synonyms\"]\n",
    "\n",
    "#  vytvorime RDF dataset a priradime mu meno\n",
    "ds = Dataset()\n",
    "graph_uri = URIRef(\"http://drugbank_ontology.org\")\n",
    "g = ds.graph(graph_uri)\n",
    "\n",
    "# nabindujeme namespaces ku grafu\n",
    "g.bind(\"drugbank\", DRUGBANK)\n",
    "g.bind(\"bioregistry\", BIOREGISTRY)\n",
    "g.bind(\"skos\", SKOS)\n",
    "\n",
    "# prechadzame cez kazdy JSON subor\n",
    "for json_file in json_files:\n",
    "    with open(os.path.join(folder_path, json_file)) as f:\n",
    "        # nacitame obsahu JSON suboru do slovnika\n",
    "        json_dict = json.load(f)\n",
    "        # prechadzamme cez kluce v JSON slovniku\n",
    "        for key in json_dict.keys():\n",
    "            # kontrolujeme ci je kluc v zozname specific_keys\n",
    "            if key in specific_keys:\n",
    "                # vytvorime URI pre dany JSON subor\n",
    "                json_uri = URIRef(BIOREGISTRY + json_file[:-5])\n",
    "                # pridavame prislusne triplety do RDF grafu\n",
    "                if key == \"drugbank_id\":\n",
    "                    g.add((json_uri, SKOS.notation, Literal(\"drugbank:\" + json_dict[key])))\n",
    "                elif key == \"name\":\n",
    "                    g.add((json_uri, SKOS.prefLabel, Literal(json_dict[key], lang='en')))\n",
    "                elif key == \"description\":\n",
    "                    if json_dict[key] != None:\n",
    "                        g.add((json_uri, SKOS.definition, Literal(json_dict[key])))\n",
    "                elif key == \"synonyms\":\n",
    "                    for synonym in json_dict[key]:\n",
    "                        if synonym[\"language\"] == \"english\":\n",
    "                            g.add((json_uri, SKOS.altLabel, Literal(synonym[\"synonym\"], lang='en')))\n",
    "\n",
    "# ulozime vytvoreny RDF dataset do suboru vo formate nquads\n",
    "ds.serialize(destination=\"drugbank created ontology.nq\", format=\"nquads\")\n"
   ]
  }
 ],
 "metadata": {
  "kernelspec": {
   "display_name": "Python 3 (ipykernel)",
   "language": "python",
   "name": "python3"
  },
  "language_info": {
   "codemirror_mode": {
    "name": "ipython",
    "version": 3
   },
   "file_extension": ".py",
   "mimetype": "text/x-python",
   "name": "python",
   "nbconvert_exporter": "python",
   "pygments_lexer": "ipython3",
   "version": "3.9.7"
  }
 },
 "nbformat": 4,
 "nbformat_minor": 5
}
