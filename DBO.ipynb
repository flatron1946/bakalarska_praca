{
 "cells": [
  {
   "cell_type": "code",
   "execution_count": 1,
   "id": "71693e2b",
   "metadata": {},
   "outputs": [
    {
     "data": {
      "text/plain": [
       "<Graph identifier=N6fa7d082bafc4673b9f24d0e713bf616 (<class 'rdflib.graph.Dataset'>)>"
      ]
     },
     "execution_count": 1,
     "metadata": {},
     "output_type": "execute_result"
    }
   ],
   "source": [
    "import os\n",
    "import json\n",
    "from rdflib import Literal, URIRef, Dataset\n",
    "from rdflib.namespace import RDF, FOAF, RDFS, SKOS, Namespace\n",
    "\n",
    "folder_path = \"/Users/simonsnopko/Desktop/Škola/bakalarska praca/DrugBank\"\n",
    "\n",
    "DRUGBANK = Namespace(\"http://go.drugbank.com/drugs/\")\n",
    "BIOREGISTRY = Namespace(\"https://bioregistry.io/drugbank:\")\n",
    "\n",
    "json_files = [f for f in os.listdir(folder_path) if f.endswith('.json')]\n",
    "\n",
    "specific_keys = [\"drugbank_id\", \"name\", \"description\", \"synonyms\"]\n",
    "\n",
    "ds = Dataset()\n",
    "\n",
    "graph_uri = URIRef(\"http://drugbank_ontology.org\")\n",
    "\n",
    "g = ds.graph(graph_uri)\n",
    "g.bind(\"drugbank\", DRUGBANK)\n",
    "g.bind(\"bioregistry\", BIOREGISTRY)\n",
    "g.bind(\"skos\", SKOS)\n",
    "\n",
    "for json_file in json_files:\n",
    "    with open(os.path.join(folder_path, json_file)) as f:\n",
    "        json_dict = json.load(f)\n",
    "        for key in json_dict.keys():\n",
    "            if key in specific_keys:\n",
    "                json_uri = URIRef(BIOREGISTRY + json_file[:-5])\n",
    "                if key == \"drugbank_id\":\n",
    "                    key_uri = SKOS.notation\n",
    "                    xref_uri = Literal(\"drugbank:\" + json_dict[key])\n",
    "                    g.add((json_uri, key_uri, xref_uri))\n",
    "                elif key == \"name\":\n",
    "                    key_uri = SKOS.prefLabel\n",
    "                    g.add((json_uri, key_uri, Literal(json_dict[key], lang='en')))\n",
    "                elif key == \"description\":\n",
    "                    if json_dict[key] != None:\n",
    "                        key_uri = SKOS.definition\n",
    "                        g.add((json_uri, key_uri, Literal(json_dict[key])))\n",
    "                elif key == \"synonyms\":\n",
    "                    for synonym in json_dict[key]:\n",
    "                        if synonym[\"language\"] == \"english\":\n",
    "                            key_uri = SKOS.altLabel\n",
    "                            g.add((json_uri, key_uri, Literal(synonym[\"synonym\"], lang='en')))\n",
    "\n",
    "ds.serialize(destination=\"drugbank created ontology.nq\", format=\"nquads\")\n"
   ]
  }
 ],
 "metadata": {
  "kernelspec": {
   "display_name": "Python 3 (ipykernel)",
   "language": "python",
   "name": "python3"
  },
  "language_info": {
   "codemirror_mode": {
    "name": "ipython",
    "version": 3
   },
   "file_extension": ".py",
   "mimetype": "text/x-python",
   "name": "python",
   "nbconvert_exporter": "python",
   "pygments_lexer": "ipython3",
   "version": "3.9.7"
  }
 },
 "nbformat": 4,
 "nbformat_minor": 5
}
