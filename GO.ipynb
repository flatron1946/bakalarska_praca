{
 "cells": [
  {
   "cell_type": "code",
   "execution_count": 1,
   "id": "f8bb4dce",
   "metadata": {},
   "outputs": [
    {
     "data": {
      "text/plain": [
       "<Graph identifier=N0b859fe4a8e841b4a9e805a76bed9f23 (<class 'rdflib.graph.Dataset'>)>"
      ]
     },
     "execution_count": 1,
     "metadata": {},
     "output_type": "execute_result"
    }
   ],
   "source": [
    "# v tomto kode nacitame udaje o genoch z Hetionetu a konvertujeme ich \n",
    "# do RDF grafu \"https://gene_ontology.org\"\n",
    "\n",
    "# importujeme potrebne kniznice\n",
    "import json\n",
    "from rdflib import Namespace, URIRef, Literal, Dataset\n",
    "from rdflib.namespace import RDF, SKOS\n",
    "\n",
    "# definujeme namespace pre bioregistry \n",
    "# SKOS = Namespace(\"http://www.w3.org/2004/02/skos/core#\")\n",
    "BIOR = Namespace(\"https://bioregistry.io/\")\n",
    "#RDF = Namespace(\"http://www.w3.org/1999/02/22-rdf-syntax-ns#\")\n",
    "\n",
    "# nacitame JSON subor\n",
    "with open('/Users/simonsnopko/Desktop/Škola/bakalarska praca/hetionet-v1.0.json') as f:\n",
    "    data = json.load(f)\n",
    "\n",
    "# vytvorime RDF dataset a priradime mu meno\n",
    "ds = Dataset()\n",
    "graph_name = URIRef(\"http://gene_ontology.org\")\n",
    "graph = ds.graph(graph_name)\n",
    "\n",
    "# prechadzame cez vsetky uzly v JSON datach\n",
    "for item in data['nodes']:\n",
    "    # kontrolujeme, ci je typ uzla \"Gene\"\n",
    "    if item['kind'] == 'Gene':\n",
    "        # vytvorime URI pre dany uzol v bioregistry\n",
    "        bior_xref = URIRef(f\"{BIOR}ncbigene:{item['identifier']}\")\n",
    "        # priradime tripletu s nazvom (prefLabel) a CURIE (notation) do grafu\n",
    "        graph.add((bior_xref, SKOS.prefLabel, Literal(item['name'])))\n",
    "        graph.add((bior_xref, SKOS.notation, Literal(\"ncbigene:\" + str(item['identifier']))))\n",
    "\n",
    "# serializujeme vytvoreny RDF dataset do suboru vo formate nquads\n",
    "ds.serialize(destination='gene created ontology.nq', format='nquads')\n"
   ]
  }
 ],
 "metadata": {
  "kernelspec": {
   "display_name": "Python 3 (ipykernel)",
   "language": "python",
   "name": "python3"
  },
  "language_info": {
   "codemirror_mode": {
    "name": "ipython",
    "version": 3
   },
   "file_extension": ".py",
   "mimetype": "text/x-python",
   "name": "python",
   "nbconvert_exporter": "python",
   "pygments_lexer": "ipython3",
   "version": "3.9.7"
  }
 },
 "nbformat": 4,
 "nbformat_minor": 5
}
