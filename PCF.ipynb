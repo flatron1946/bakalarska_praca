{
 "cells": [
  {
   "cell_type": "code",
   "execution_count": 1,
   "id": "45b89580",
   "metadata": {},
   "outputs": [
    {
     "data": {
      "text/plain": [
       "<Graph identifier=N58bf813d9a7e43909e354aefb5be0fc2 (<class 'rdflib.graph.Dataset'>)>"
      ]
     },
     "execution_count": 1,
     "metadata": {},
     "output_type": "execute_result"
    }
   ],
   "source": [
    "from rdflib import Graph, Dataset, Namespace, URIRef, Literal\n",
    "from rdflib.namespace import RDF, RDFS, OWL, SKOS\n",
    "\n",
    "g = Graph()\n",
    "g.parse(\"/Users/simonsnopko/Desktop/Škola/bakalarska praca/go.owl\")\n",
    "\n",
    "SKOSNS = Namespace(\"http://www.w3.org/2004/02/skos/core#\")\n",
    "oboInOwl = Namespace(\"http://www.geneontology.org/formats/oboInOwl#\")\n",
    "BIOREG = Namespace(\"https://bioregistry.io/\")\n",
    "\n",
    "ds = Dataset()\n",
    "graph_name = URIRef(\"http://pcf_ontology.org\")\n",
    "new_g = ds.graph(identifier=graph_name)\n",
    "new_g.bind(\"skos\", SKOSNS)\n",
    "new_g.bind(\"bioregistry\", BIOREG)\n",
    "\n",
    "for c in g.subjects(RDF.type, OWL.Class):\n",
    "    class_id = g.value(c, oboInOwl.id)\n",
    "    \n",
    "    if class_id:\n",
    "        bioregistry_uri = URIRef(f\"{BIOREG}{class_id}\")\n",
    "        \n",
    "    label = g.value(c, RDFS.label)\n",
    "    if label:\n",
    "        new_g.add((bioregistry_uri, SKOS.prefLabel, Literal(label)))\n",
    "\n",
    "    subClassOf = g.value(c, RDFS.subClassOf)\n",
    "    if subClassOf:\n",
    "        subClassOf_id = \"go:\" + str(subClassOf).split(\"GO_\")[-1]\n",
    "        new_g.add((bioregistry_uri, SKOS.narrower, Literal(subClassOf_id)))\n",
    "\n",
    "        new_g.add((bioregistry_uri, SKOS.notation, Literal(\"go:\" + class_id.split(\"GO:\")[-1])))\n",
    "\n",
    "ds.serialize(destination=\"proces_component_function_created_ontology.nq\", format=\"nquads\")\n"
   ]
  }
 ],
 "metadata": {
  "kernelspec": {
   "display_name": "Python 3 (ipykernel)",
   "language": "python",
   "name": "python3"
  },
  "language_info": {
   "codemirror_mode": {
    "name": "ipython",
    "version": 3
   },
   "file_extension": ".py",
   "mimetype": "text/x-python",
   "name": "python",
   "nbconvert_exporter": "python",
   "pygments_lexer": "ipython3",
   "version": "3.9.7"
  }
 },
 "nbformat": 4,
 "nbformat_minor": 5
}
