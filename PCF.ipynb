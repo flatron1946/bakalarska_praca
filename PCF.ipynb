{
 "cells": [
  {
   "cell_type": "code",
   "execution_count": 5,
   "id": "45b89580",
   "metadata": {},
   "outputs": [
    {
     "data": {
      "text/plain": [
       "<Graph identifier=N4c442dfdc57e40e383fb404f87c856f3 (<class 'rdflib.graph.Dataset'>)>"
      ]
     },
     "execution_count": 5,
     "metadata": {},
     "output_type": "execute_result"
    }
   ],
   "source": [
    "# v tomto kode nacitame udaje o Biological Process, Cellular Component, Molecular Function a konvertujeme ich \n",
    "# do RDF grafu \"https://pcf_ontology.org\"\n",
    "\n",
    "# importujeme potrebne kniznice\n",
    "from rdflib import Graph, Dataset, Namespace, URIRef, Literal\n",
    "from rdflib.namespace import RDF, RDFS, OWL, SKOS\n",
    "\n",
    "# vytvorime prazdny RDF graf a nacitame obsah suboru go.owl do neho\n",
    "g = Graph()\n",
    "g.parse(\"/Users/simonsnopko/Desktop/Škola/bakalarska praca/go.owl\")\n",
    "\n",
    "# definujeme namespaces pre oboinowl a bioregistry\n",
    "oboInOwl = Namespace(\"http://www.geneontology.org/formats/oboInOwl#\")\n",
    "BIOREG = Namespace(\"https://bioregistry.io/\")\n",
    "\n",
    "# vytvorime RDF dataset a priradime mu meno\n",
    "ds = Dataset()\n",
    "graph_name = URIRef(\"http://pcf_ontology.org\")\n",
    "new_g = ds.graph(identifier=graph_name)\n",
    "new_g.bind(\"skos\", SKOS)\n",
    "new_g.bind(\"bioregistry\", BIOREG)\n",
    "\n",
    "# prechadzame cez vsetky subjekty v povodnom grafe, ktore s typu OWL.Class\n",
    "for c in g.subjects(RDF.type, OWL.Class):\n",
    "    # ziskame ID triedy z oboInOwl.id pre dany subjekt\n",
    "    class_id = g.value(c, oboInOwl.id)\n",
    "    \n",
    "    # ak existuje class_id\n",
    "    if class_id:\n",
    "        # vytvorime URI pre danu triedu v bioregistry\n",
    "        bioregistry_uri = URIRef(f\"{BIOREG}{class_id}\")\n",
    "    \n",
    "    # ziskame nazov triedy (label) a pridame tripletu do grafu new_g\n",
    "    label = g.value(c, RDFS.label)\n",
    "    if label:\n",
    "        new_g.add((bioregistry_uri, SKOS.prefLabel, Literal(label)))\n",
    "    \n",
    "    # ziskame subClassOf a pridame tripletu do grafu new_g\n",
    "    subClassOf = g.value(c, RDFS.subClassOf)\n",
    "    if subClassOf:\n",
    "        subClassOf_id = \"go:\" + str(subClassOf).split(\"GO_\")[-1]\n",
    "        new_g.add((bioregistry_uri, SKOS.narrower, Literal(subClassOf_id)))\n",
    "        \n",
    "        # pridame CURIE (notation) do grafu new_g\n",
    "        new_g.add((bioregistry_uri, SKOS.notation, Literal(\"go:\" + class_id.split(\"GO:\")[-1])))\n",
    "        \n",
    "# ulozime vytvoreny RDF dataset do suboru vo formate nquads\n",
    "ds.serialize(destination=\"proces_component_function_created_ontology.nq\", format=\"nquads\")\n"
   ]
  }
 ],
 "metadata": {
  "kernelspec": {
   "display_name": "Python 3 (ipykernel)",
   "language": "python",
   "name": "python3"
  },
  "language_info": {
   "codemirror_mode": {
    "name": "ipython",
    "version": 3
   },
   "file_extension": ".py",
   "mimetype": "text/x-python",
   "name": "python",
   "nbconvert_exporter": "python",
   "pygments_lexer": "ipython3",
   "version": "3.9.7"
  }
 },
 "nbformat": 4,
 "nbformat_minor": 5
}
