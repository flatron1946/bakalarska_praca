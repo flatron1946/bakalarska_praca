{
 "cells": [
  {
   "cell_type": "code",
   "execution_count": 2,
   "id": "93e55b20",
   "metadata": {},
   "outputs": [
    {
     "data": {
      "text/plain": [
       "<Graph identifier=N862ee6c728c44d2d8febbf5352dcb767 (<class 'rdflib.graph.Dataset'>)>"
      ]
     },
     "execution_count": 2,
     "metadata": {},
     "output_type": "execute_result"
    }
   ],
   "source": [
    "# v tomto kode nacitame udaje o pathway z Hetionetu a Reactome a konvertujeme ich \n",
    "# do RDF grafu \"https://pathway_ontology.org\"\n",
    "\n",
    "# importujeme potrebne kniznice\n",
    "import json\n",
    "from rdflib import Namespace, URIRef, Literal, Dataset\n",
    "from rdflib.namespace import RDF, SKOS\n",
    "\n",
    "# definujeme namespace pre bioregistry \n",
    "BIOR = Namespace(\"https://bioregistry.io/\")\n",
    "\n",
    "# nacitanie JSON suboru\n",
    "with open('/Users/simonsnopko/Desktop/Škola/bakalarska praca/hetionet-v1.0.json') as f:\n",
    "    data = json.load(f)\n",
    "    \n",
    "# nacitame txt subor\n",
    "with open(\"/Users/simonsnopko/Desktop/Škola/bakalarska praca/ReactomePathways.txt\", \"r\") as f:\n",
    "    lines = f.readlines()\n",
    "\n",
    "# vytvorime RDF dataset a priradime mu meno\n",
    "ds = Dataset()\n",
    "graph_name = URIRef(\"http://pathway_ontology.org\")\n",
    "graph = ds.graph(graph_name)\n",
    "\n",
    "# prechadzame cez vsetky uzly v JSON datach z Hetionetu\n",
    "for item in data['nodes']:\n",
    "    # kontrolujeme ci je typ uzla Pathway\"\n",
    "    if item['kind'] == 'Pathway' and 'url' in item['data']:\n",
    "        # vytvorime URI pre dany uzol v bioregistry\n",
    "        identifier = item['identifier'].split('_')[0]\n",
    "        bior_xref = URIRef(f\"{BIOR}wikipathways:{identifier}\")\n",
    "        # priradime tripletu s nazvom (prefLabel) a CURIE (notation) do grafu\n",
    "        graph.add((bior_xref, SKOS.notation, Literal(\"wikipathways:\" + identifier)))\n",
    "        graph.add((bior_xref, SKOS.prefLabel, Literal(item['name'])))\n",
    "            \n",
    "# prechadzame cez vsetky riadky txt suboru Reactome\n",
    "for line in lines:\n",
    "    # rozdelime riadok na jednotlive casti (stlpce) podla tabulatora\n",
    "    parts = line.strip().split(\"\\t\")   \n",
    "    # ak je pocet casti (stlpcov) 3\n",
    "    if len(parts) == 3:\n",
    "        # priradime jednotlive casti k premennym\n",
    "        pathway_id, pathway_name, organism = parts\n",
    "        \n",
    "        # vytvorime URI pre danu pathway v bioregistry\n",
    "        bior_xref = URIRef(f\"{BIOR}reactome:{pathway_id}\")\n",
    "        \n",
    "        # pridame tripletu s nazvom (prefLabel) a notaciou (notation) pre danu pathway do grafu\n",
    "        graph.add((bior_xref, SKOS.prefLabel, Literal(pathway_name)))\n",
    "        graph.add((bior_xref, SKOS.notation, Literal(\"reactome:\" + pathway_id)))\n",
    "\n",
    "       \n",
    "# ulozime vytvoreny RDF dataset do suboru vo formate nquads\n",
    "ds.serialize(destination='pathway_created_ontology.nq', format='nquads')\n"
   ]
  }
 ],
 "metadata": {
  "kernelspec": {
   "display_name": "Python 3 (ipykernel)",
   "language": "python",
   "name": "python3"
  },
  "language_info": {
   "codemirror_mode": {
    "name": "ipython",
    "version": 3
   },
   "file_extension": ".py",
   "mimetype": "text/x-python",
   "name": "python",
   "nbconvert_exporter": "python",
   "pygments_lexer": "ipython3",
   "version": "3.9.7"
  }
 },
 "nbformat": 4,
 "nbformat_minor": 5
}
