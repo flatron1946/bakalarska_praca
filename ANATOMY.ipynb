{
 "cells": [
  {
   "cell_type": "code",
   "execution_count": 4,
   "id": "ada26906",
   "metadata": {},
   "outputs": [
    {
     "data": {
      "text/plain": [
       "<Graph identifier=N0d63cb0420734c2f908dab4e21a5416d (<class 'rdflib.graph.Dataset'>)>"
      ]
     },
     "execution_count": 4,
     "metadata": {},
     "output_type": "execute_result"
    }
   ],
   "source": [
    "# v tomto kode nacitame udaje o anatomickych zlozkach Hetionetu a konvertujeme ich \n",
    "# do RDF grafu \"https://anatomy_ontology.org\"\n",
    "\n",
    "# importujeme potrebne kniznice\n",
    "import re\n",
    "from rdflib import Namespace, Literal, URIRef, Dataset\n",
    "from rdflib.namespace import RDF, RDFS, SKOS, OWL, DC\n",
    "\n",
    "# cesta k obo suboru UBERON\n",
    "obo_file = '/Users/simonsnopko/Desktop/Škola/bakalarska praca/uberon-simple.obo'\n",
    "\n",
    "# definujeme namespace pre uberon a bioregistry\n",
    "UBERON = Namespace(\"http://purl.obolibrary.org/obo/\")\n",
    "BIOREGISTRY = Namespace(\"https://bioregistry.io/\")\n",
    "\n",
    "# vytvorime dataset, meno grafu a do premennej new_g priradime menovity graf\n",
    "ds = Dataset()\n",
    "graph_name = URIRef(\"https://anatomy_ontology.org\")\n",
    "new_g = ds.graph(identifier=graph_name)\n",
    "\n",
    "# nabindujeme namespaces ku grafu\n",
    "new_g.bind(\"bioregistry\", BIOREGISTRY)\n",
    "new_g.bind(\"skos\", SKOS)\n",
    "\n",
    "# otvorime obo subor a precitame jeho obsah\n",
    "with open(obo_file, 'r') as f:\n",
    "    content = f.read()\n",
    "\n",
    "# rozdelime obsah podla termov\n",
    "terms = content.split(\"[Term]\")\n",
    "\n",
    "# prechadzame cez vsetky termy a odstranujeme prazdne medzery, tabulatory, nove riadky \n",
    "# na zaciatku a na konci retazca\n",
    "for term in terms:\n",
    "    term = term.strip()\n",
    "    if not term:\n",
    "        continue\n",
    "\n",
    "    # vytvorime prazdny slovnik\n",
    "    term_dict = {}\n",
    "    # kazdy term sa rozdeli na jednotlive riadky\n",
    "    for line in term.split('\\n'):\n",
    "        # kazdy riadok sa podľa dvojbodky a jednej alebo viacerých medzier rozdeli (: ) pomocou funkcie split \n",
    "        key_value = re.split(r':\\s+', line, maxsplit=1)\n",
    "        # kontroluje sa ci rozdelenie vratilo dve casti\n",
    "        if len(key_value) == 2:\n",
    "            # do premennej sa ulozi key a value\n",
    "            key, value = key_value\n",
    "            # key a value sa pridaju do slovníka term_dict\n",
    "            term_dict[key] = value\n",
    "\n",
    "    # zo slovnika term_dict ziskame udaje o termoch pomocou nazvov klucov\n",
    "    id_ = term_dict.get('id')\n",
    "    name = term_dict.get('name')\n",
    "    definition = term_dict.get('def')\n",
    "    subset = term_dict.get('subset')\n",
    "\n",
    "    # ak existuju vsetky udaje\n",
    "    if id_ and name and definition and subset:\n",
    "        # vytvorime URI pre bioregistry\n",
    "        bioregistry_uri = URIRef(BIOREGISTRY + id_.replace('_', ':'))\n",
    "        # pridame triplety do grafu\n",
    "        new_g.add((bioregistry_uri, SKOS.prefLabel, Literal(name)))\n",
    "        new_g.add((bioregistry_uri, SKOS.definition, Literal(definition)))\n",
    "        new_g.add((bioregistry_uri, SKOS.narrower, Literal(subset)))\n",
    "        new_g.add((bioregistry_uri, SKOS.notation, Literal(id_)))  \n",
    "\n",
    "# ulozime graf do suboru v nquads formate\n",
    "ds.serialize(destination=\"anatomy created ontology.nq\", format=\"nquads\")\n"
   ]
  }
 ],
 "metadata": {
  "kernelspec": {
   "display_name": "Python 3 (ipykernel)",
   "language": "python",
   "name": "python3"
  },
  "language_info": {
   "codemirror_mode": {
    "name": "ipython",
    "version": 3
   },
   "file_extension": ".py",
   "mimetype": "text/x-python",
   "name": "python",
   "nbconvert_exporter": "python",
   "pygments_lexer": "ipython3",
   "version": "3.9.7"
  }
 },
 "nbformat": 4,
 "nbformat_minor": 5
}
