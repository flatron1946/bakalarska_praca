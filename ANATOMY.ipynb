{
 "cells": [
  {
   "cell_type": "code",
   "execution_count": 7,
   "id": "4705d6aa",
   "metadata": {},
   "outputs": [
    {
     "data": {
      "text/plain": [
       "<Graph identifier=Nfa8e61bd0c554ef6965f037172b189ff (<class 'rdflib.graph.Dataset'>)>"
      ]
     },
     "execution_count": 7,
     "metadata": {},
     "output_type": "execute_result"
    }
   ],
   "source": [
    "import re\n",
    "from rdflib import Namespace, Literal, URIRef, Dataset\n",
    "from rdflib.namespace import RDF, RDFS, SKOS, OWL, DC\n",
    "\n",
    "obo_file = '/Users/simonsnopko/Desktop/Škola/bakalarska praca/uberon-simple.obo'\n",
    "\n",
    "# Define necessary namespaces\n",
    "UBERON = Namespace(\"http://purl.obolibrary.org/obo/\")\n",
    "BIOREGISTRY = Namespace(\"https://bioregistry.io/\")\n",
    "\n",
    "# Create a Dataset object and set the graph name\n",
    "ds = Dataset()\n",
    "graph_name = URIRef(\"https://anatomy_ontology.org\")\n",
    "new_g = ds.graph(identifier=graph_name)\n",
    "new_g.bind(\"uberon\", UBERON)\n",
    "new_g.bind(\"bioregistry\", BIOREGISTRY)\n",
    "new_g.bind(\"skos\", SKOS)\n",
    "new_g.bind(\"curie\", CURIE)  # Bind CURIE namespace\n",
    "\n",
    "# Read the OBO file\n",
    "with open(obo_file, 'r') as f:\n",
    "    content = f.read()\n",
    "\n",
    "# Split the content into terms\n",
    "terms = content.split(\"[Term]\")\n",
    "\n",
    "# Process each term\n",
    "for term in terms:\n",
    "    term = term.strip()\n",
    "    if not term:\n",
    "        continue\n",
    "\n",
    "    term_dict = {}\n",
    "    for line in term.split('\\n'):\n",
    "        key_value = re.split(r':\\s+', line, maxsplit=1)\n",
    "        if len(key_value) == 2:\n",
    "            key, value = key_value\n",
    "            term_dict[key] = value\n",
    "\n",
    "    # Extract id, name, def, and subset\n",
    "    id_ = term_dict.get('id')\n",
    "    name = term_dict.get('name')\n",
    "    definition = term_dict.get('def')\n",
    "    subset = term_dict.get('subset')\n",
    "\n",
    "    if id_ and name and definition and subset:\n",
    "        # Create URI for the term\n",
    "        bioregistry_uri = URIRef(BIOREGISTRY + id_.replace('_', ':'))\n",
    "\n",
    "        # Add triples to the named graph\n",
    "        new_g.add((bioregistry_uri, SKOS.prefLabel, Literal(name)))\n",
    "        new_g.add((bioregistry_uri, SKOS.definition, Literal(definition)))\n",
    "        new_g.add((bioregistry_uri, SKOS.narrower, Literal(subset)))\n",
    "        new_g.add((bioregistry_uri, SKOS.notation, Literal(id_)))  # Add triple with CURIE number\n",
    "\n",
    "# Serialize the dataset in N-Quads format\n",
    "ds.serialize(destination=\"anatomy created ontology.nq\", format=\"nquads\")\n"
   ]
  }
 ],
 "metadata": {
  "kernelspec": {
   "display_name": "Python 3 (ipykernel)",
   "language": "python",
   "name": "python3"
  },
  "language_info": {
   "codemirror_mode": {
    "name": "ipython",
    "version": 3
   },
   "file_extension": ".py",
   "mimetype": "text/x-python",
   "name": "python",
   "nbconvert_exporter": "python",
   "pygments_lexer": "ipython3",
   "version": "3.9.7"
  }
 },
 "nbformat": 4,
 "nbformat_minor": 5
}
